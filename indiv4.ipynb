{
 "cells": [
  {
   "cell_type": "code",
   "execution_count": null,
   "metadata": {},
   "outputs": [],
   "source": [
    "from IPython import get_ipython\n",
    "my_variables = set(dir())  # Write this line at the beginning of cell\n",
    "my_variables = list(set(dir()) - my_variables)  # Write these 2 lines at the end of cell\n",
    "get_ipython().magic('%reset_selective -f [{}]'.format(','.join(my_variables)))\n",
    "\n",
    "import cv2 as cv\n",
    "import numpy as np\n",
    "import numpy.ma as ma\n",
    "from matplotlib import pyplot as plt\n",
    "from PIL import Image, ImageDraw \n",
    "import pylab"
   ]
  },
  {
   "cell_type": "code",
   "execution_count": null,
   "metadata": {},
   "outputs": [],
   "source": [
    "def plt_show(image, color = None):\n",
    "    pic_size=5\n",
    "    plt.figure(figsize = (pic_size, pic_size))\n",
    "    plt.imshow(image, color)\n",
    "    plt.show()"
   ]
  },
  {
   "cell_type": "code",
   "execution_count": null,
   "metadata": {},
   "outputs": [],
   "source": [
    "def otsuFragment(pix, old):\n",
    "    hist = hist_ar(pix)\n",
    "\n",
    "    summ = 0\n",
    "    for x in range(len(pix)):\n",
    "        summ = summ +pix[x]\n",
    "\n",
    "    indexMax = 0\n",
    "    sigMax = 0.0 \n",
    "\n",
    "    l1 = 0 \n",
    "    o1 = 0\n",
    "    \n",
    "    if len(old)==0:\n",
    "        old_new=[0]\n",
    "\n",
    "    for thresh in range(1,len(hist)): \n",
    "       \n",
    "        if not thresh in old:\n",
    "            l1 = l1 +  hist[thresh]\n",
    "            \n",
    "            # print(\"o1 \",o1)\n",
    "            o1 =o1+ thresh * hist[thresh]\n",
    "    \n",
    "            # print(\"l1\",l1)\n",
    "            omega1 = l1 /len(pix) \n",
    "            omega2 = 1.0 - omega1 \n",
    "    \n",
    "            lyamda1 = o1 /l1\n",
    "            lyamda2 = (summ - o1)/(len(pix) - l1)\n",
    "            \n",
    "            between = lyamda1 - lyamda2\n",
    "    \n",
    "            sigma = omega1 * omega2 * between * between\n",
    "\n",
    "            if (sigma > sigMax): \n",
    "                sigMax = sigma\n",
    "                indexMax = thresh\n",
    "    return indexMax \n",
    "\n",
    "def hist_ar(pixarr):\n",
    "        h = np.zeros(256, np.float32)\n",
    "        for x in range(len(pixarr)):\n",
    "            h[round(pixarr[x])]=h[round(pixarr[x])]+1\n",
    "        for i in range(len(h)):\n",
    "            if len(h)>i:\n",
    "                if ((h[i]==0) & (len(h)>0)):\n",
    "                    h=np.setdiff1d(h, 0)\n",
    "                    i = i - 1\n",
    "        return h\n",
    "   \n",
    "\n",
    "def otsu_locs():\n",
    "    parts=10\n",
    "    image_name=\"pic4.jpg\"\n",
    "    ref = pixarr = cv.imread(image_name, cv.IMREAD_GRAYSCALE)\n",
    "    image = Image.open(image_name)\n",
    "    new_pix = ImageDraw.Draw(image)  \n",
    "    partsH = 2;  partsV = 3\n",
    "    \n",
    "    sizeV = image.size[1];  sizeH = image.size[0]\n",
    "    arr = np.array([x for x in range(0,sizeH-sizeH//partsV+1,int(sizeH//partsV))])\n",
    "    stepH = [arr,[0,249,  332,  415,  498,  581,  664, 1422] ,np.array([x for x in range(0,sizeH-sizeH//parts+1,int(sizeH//parts))]),[0, 275, 470,562, 830, 1182,1422], [0, 532, 896, 1422], [0,1422],[0, 478, 960, 1422]]\n",
    "    stepV = [0, 217,279, 355, 419, 557, 605, 711]\n",
    "\n",
    "    for i in range(len(stepV)-1):\n",
    "        for j in range(len(stepH[i])-1):\n",
    "            \n",
    "            arr1 = arr = (pixarr[stepV[i]:stepV[i+1],stepH[i][j]:stepH[i][j+1]])\n",
    "            limit = otsuFragment(arr1.reshape(len(arr)*len(arr[0])), [])\n",
    "            \n",
    "            if(stepV[i]==279 & stepV[i+1]==335)|(stepH[i][j+1]<230)|(stepV[i+1]==605) |(stepH[i][j+1]>1090 & stepV[i+1]>500):\n",
    "                limit, _ = cv.threshold(arr,150,255,cv.THRESH_BINARY_INV)\n",
    "            for x in range(stepV[i],stepV[i+1]):\n",
    "                for y in range(stepH[i][j],stepH[i][j+1]):\n",
    "                    if arr[x-stepV[i],y-stepH[i][j]] < limit:\n",
    "                        pix = 0\n",
    "                    else:\n",
    "                        pix = 255\n",
    "                    ref[x][y]=pix\n",
    "                    \n",
    "    plt_show(ref, \"gray\")\n",
    "    Image.fromarray(ref).save(\"carnum.jpg\")\n",
    "    return ref\n",
    "\n"
   ]
  },
  {
   "cell_type": "code",
   "execution_count": null,
   "metadata": {},
   "outputs": [],
   "source": [
    "pic_size = 5\n",
    "ref = cv.imread(\"pic4.jpg\", cv.IMREAD_GRAYSCALE)\n",
    "plt_show(ref)"
   ]
  },
  {
   "cell_type": "code",
   "execution_count": null,
   "metadata": {},
   "outputs": [],
   "source": [
    "# import easyocr\n",
    "# # !pip install easyocr\n",
    "# def recognize_text(img_path):\n",
    "#     '''loads an image and recognizes text.'''\n",
    "#     reader = easyocr.Reader(['en'])\n",
    "#     return reader.readtext(img_path)\n",
    "\n",
    "# result = recognize_text(\"carnum.jpg\")\n",
    "# result"
   ]
  },
  {
   "cell_type": "code",
   "execution_count": null,
   "metadata": {},
   "outputs": [],
   "source": [
    "binr = otsu_locs()"
   ]
  },
  {
   "cell_type": "code",
   "execution_count": null,
   "metadata": {},
   "outputs": [],
   "source": [
    "circle = cv.getStructuringElement(cv.MORPH_ELLIPSE, (21, 16))\n",
    "r = cv.dilate(binr, circle)  \n",
    "plt_show(r)\n",
    "c, contours= cv.findContours(r,cv.RETR_EXTERNAL,cv.CHAIN_APPROX_SIMPLE)\n",
    "# print(c)\n",
    "count=0\n",
    "# print(type(c), contours)\n",
    "contour = []\n",
    "for i in c:\n",
    "    if(len(i)>200):\n",
    "        count = count + 1\n",
    "        contour.append(i)\n",
    "print(\"Count \",count)\n",
    "\n",
    "d = np.zeros((711,1422))\n",
    "d = cv.drawContours(d,contour,-1,[255,189,0],2)\n",
    "plt_show(d, \"gray\")\n",
    "plt_show(d)\n",
    "\n",
    "d = cv.drawContours(ref,contour,-1,[255,189,0],2)\n",
    "plt_show(d, \"gray\")\n",
    "plt_show(d)\n",
    "\n",
    "# CV_CHAIN_APPROX_SIMPLE — склеивает все горизонтальные, вертикальные и диагональные контуры."
   ]
  },
  {
   "cell_type": "code",
   "execution_count": null,
   "metadata": {},
   "outputs": [],
   "source": []
  },
  {
   "cell_type": "code",
   "execution_count": null,
   "metadata": {},
   "outputs": [],
   "source": [
    "# for i in range(40,70):\n",
    "#     print(i)\n",
    "#     _, picture = cv.threshold(cv.imread(\"carcar.jpg\", cv.IMREAD_GRAYSCALE),i,255,cv.THRESH_BINARY_INV)\n",
    "#     plt.figure(figsize = (pic_size, pic_size))\n",
    "#     plt.imshow(picture, cmap=\"gray\")\n",
    "#     plt.show()"
   ]
  },
  {
   "cell_type": "code",
   "execution_count": null,
   "metadata": {},
   "outputs": [],
   "source": [
    "# for i in range(10,30):\n",
    "#     for j in range(10,30):\n",
    "#         circle = cv.getStructuringElement(cv.MORPH_ELLIPSE, (i, j))# np.ones((20,24),np.uint8)\n",
    "#         r = cv.dilate(binr, circle)  \n",
    "#         print(i,j)\n",
    "#         plt_show(r)\n",
    "# #         Image.fromarray(r).save(\"carnum.jpg\")"
   ]
  },
  {
   "cell_type": "code",
   "execution_count": null,
   "metadata": {},
   "outputs": [],
   "source": []
  }
 ],
 "metadata": {
  "kernelspec": {
   "display_name": "Python 3",
   "language": "python",
   "name": "python3"
  },
  "language_info": {
   "codemirror_mode": {
    "name": "ipython",
    "version": 3
   },
   "file_extension": ".py",
   "mimetype": "text/x-python",
   "name": "python",
   "nbconvert_exporter": "python",
   "pygments_lexer": "ipython3",
   "version": "3.8.5"
  }
 },
 "nbformat": 4,
 "nbformat_minor": 4
}
