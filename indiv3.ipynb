{
 "cells": [
  {
   "cell_type": "code",
   "execution_count": null,
   "metadata": {},
   "outputs": [],
   "source": [
    "from IPython import get_ipython\n",
    "my_variables = set(dir())  # Write this line at the beginning of cell\n",
    "my_variables = list(set(dir()) - my_variables)  # Write these 2 lines at the end of cell\n",
    "get_ipython().magic('%reset_selective -f [{}]'.format(','.join(my_variables)))\n",
    "\n",
    "import cv2 as cv\n",
    "import numpy as np\n",
    "import numpy.ma as ma\n",
    "from matplotlib import pyplot as plt\n",
    "from PIL import Image, ImageDraw \n",
    "import pylab\n",
    "# print(bublick_big)"
   ]
  },
  {
   "cell_type": "code",
   "execution_count": null,
   "metadata": {},
   "outputs": [],
   "source": [
    "def plt_show(image, color = None):\n",
    "    pic_size=5\n",
    "    plt.figure(figsize = (pic_size, pic_size))\n",
    "    plt.imshow(image, color)\n",
    "    plt.show()\n",
    "   "
   ]
  },
  {
   "cell_type": "code",
   "execution_count": null,
   "metadata": {},
   "outputs": [],
   "source": [
    "def coinsNumberFind(makers):\n",
    "    l = makers.reshape(len(makers)*len(makers[0])).tolist()\n",
    "    print(type(l), (set(l)))\n",
    "    return (len(set(l))-1)"
   ]
  },
  {
   "cell_type": "code",
   "execution_count": null,
   "metadata": {},
   "outputs": [],
   "source": [
    "def otsuFragment(pix, old):\n",
    "    hist = hist_ar(pix)\n",
    "\n",
    "    summ = 0\n",
    "    for x in range(len(pix)):\n",
    "        summ = summ +pix[x]\n",
    "\n",
    "    indexMax = 0\n",
    "    sigMax = 0.0 \n",
    "\n",
    "    l1 = 0 \n",
    "    o1 = 0\n",
    "    \n",
    "    if len(old)==0:\n",
    "        old_new=[0]\n",
    "\n",
    "    for thresh in range(1,len(hist)): \n",
    "       \n",
    "        if not thresh in old:\n",
    "            l1 = l1 +  hist[thresh]\n",
    "            \n",
    "            # print(\"o1 \",o1)\n",
    "            o1 =o1+ thresh * hist[thresh]\n",
    "    \n",
    "            # print(\"l1\",l1)\n",
    "            omega1 = l1 /len(pix) \n",
    "            omega2 = 1.0 - omega1 \n",
    "    \n",
    "            lyamda1 = o1 /l1\n",
    "            lyamda2 = (summ - o1)/(len(pix) - l1)\n",
    "            \n",
    "            between = lyamda1 - lyamda2\n",
    "    \n",
    "            sigma = omega1 * omega2 * between * between\n",
    "\n",
    "            if (sigma > sigMax): \n",
    "                sigMax = sigma\n",
    "                indexMax = thresh\n",
    "    return indexMax \n",
    "\n",
    "def hist_ar(pixarr):\n",
    "        h = np.zeros(256, np.float32)\n",
    "        for x in range(len(pixarr)):\n",
    "            h[round(pixarr[x])]=h[round(pixarr[x])]+1\n",
    "        for i in range(len(h)):\n",
    "            if len(h)>i:\n",
    "                if ((h[i]==0) & (len(h)>0)):\n",
    "                    h=np.setdiff1d(h, 0)\n",
    "                    i = i - 1\n",
    "        return h\n",
    "    \n",
    "def otsu_loc(image_name):\n",
    "    partsH = 2;  partsV = 2\n",
    "    \n",
    "    ref = cv.imread(image_name, cv.IMREAD_GRAYSCALE)\n",
    "    image = Image.open(image_name)\n",
    "    new_pix = ImageDraw.Draw(image)  \n",
    "    \n",
    "    sizeV = image.size[1];  sizeH = image.size[0]\n",
    "\n",
    "    stepV = np.array([x for x in range(0,sizeV-sizeV//partsH+1,int(sizeV//partsH))])  \n",
    "    stepV=np.append(stepV,sizeV)\n",
    "    \n",
    "    stepH = np.array([x for x in range(0,sizeH-sizeH//partsV+1,int(sizeH//partsV))])    \n",
    "    stepH=np.append(stepH, sizeH)\n",
    "\n",
    "    pixarr = cv.imread(image_name, cv.IMREAD_GRAYSCALE)\n",
    "    for i in range(len(stepV)-1):\n",
    "        for j in range(len(stepH)-1):\n",
    "            arr1 = arr = (pixarr[stepV[i]:stepV[i+1],stepH[j]:stepH[j+1]])\n",
    "            limit = otsuFragment(arr1.reshape(len(arr)*len(arr[0])), [])\n",
    "            for x in range(stepV[i],stepV[i+1]):\n",
    "                for y in range(stepH[j],stepH[j+1]):\n",
    "                    if arr[x-stepV[i],y-stepH[j]] < limit:\n",
    "                        pix = 0\n",
    "                    else:\n",
    "                        pix = 255\n",
    "                    ref[x][y]=pix\n",
    "                    new_pix.point((y, x), (pix, pix, pix)) \n",
    "    fig, ax = plt.subplots(1,2)\n",
    "    plt.title(\"Local binarization Otsu's method\")\n",
    "    ax[0].imshow( Image.open(image_name) )\n",
    "    ax[1].imshow(image)\n",
    "    plt.show()\n",
    "    return ref"
   ]
  },
  {
   "cell_type": "code",
   "execution_count": null,
   "metadata": {},
   "outputs": [],
   "source": [
    "picture = cv.imread(\"pic3.jpg\", cv.IMREAD_GRAYSCALE)\n",
    "plt_show(picture, \"gray\")"
   ]
  },
  {
   "cell_type": "code",
   "execution_count": null,
   "metadata": {},
   "outputs": [],
   "source": [
    "_, picture = cv.threshold(picture,130,255,cv.THRESH_BINARY_INV)\n",
    "\n",
    "plt_show(picture, \"gray\")\n"
   ]
  },
  {
   "cell_type": "code",
   "execution_count": null,
   "metadata": {},
   "outputs": [],
   "source": [
    "bin_ref = otsu_loc(\"pic3.jpg\")"
   ]
  },
  {
   "cell_type": "code",
   "execution_count": null,
   "metadata": {},
   "outputs": [],
   "source": [
    "circle = cv.getStructuringElement(cv.MORPH_ELLIPSE, (9, 2))# np.ones((9,2),np.uint8)\n",
    "all_coins = cv.dilate(bin_ref, circle)\n",
    "\n",
    "plt_show(all_coins)\n",
    "\n",
    "# for i in range(1,10):\n",
    "#     for j in range(1,10):\n",
    "#         circle = np.ones((i,j),np.uint8)\n",
    "#         small_coins = cv.dilate(bin_ref, circle)\n",
    "#         print(i,j)\n",
    "#         plt_show(small_coins);plt.show()"
   ]
  },
  {
   "cell_type": "code",
   "execution_count": null,
   "metadata": {},
   "outputs": [],
   "source": [
    "circle = np.ones((25,25),np.uint8)\n",
    "small_coins = cv.erode(all_coins, circle)\n",
    "plt_show(small_coins)\n",
    "\n",
    "circle = np.ones((10,14),np.uint8)\n",
    "small_coins = cv.erode(small_coins, circle)\n",
    "plt_show(small_coins)\n",
    "\n",
    "\n",
    "\n",
    "circle = cv.getStructuringElement(cv.MORPH_ELLIPSE, (40, 37))\n",
    "small_coins = cv.dilate(small_coins, circle)\n",
    "plt_show(small_coins)\n",
    "\n",
    "\n",
    "# for i in range(25,37):\n",
    "#     for j in range(25,37):\n",
    "#         circle = np.ones((i,j),np.uint8)\n",
    "#         small_coins = cv.erode(all_coins, circle)\n",
    "# #         print(i,j)\n",
    "# #         plt_show(small_coins);plt.show()\n",
    "#         for c in range(2,15):\n",
    "#             for d in range(2,15):\n",
    "#                 circle = np.ones((c,d),np.uint8)\n",
    "#                 small_coins_double_dilate = cv.erode(small_coins, circle)\n",
    "#                 print(i,j, c,d)\n",
    "#                 plt_show(small_coins_double_dilate);plt.show()"
   ]
  },
  {
   "cell_type": "code",
   "execution_count": null,
   "metadata": {},
   "outputs": [],
   "source": [
    "_, markers_for_small_coins = cv.connectedComponents(small_coins)\n",
    "\n",
    "plt_show(markers_for_small_coins)"
   ]
  },
  {
   "cell_type": "code",
   "execution_count": null,
   "metadata": {},
   "outputs": [],
   "source": [
    "print(\"countSmallCoins  =  \", coinsNumberFind(markers_for_small_coins))"
   ]
  },
  {
   "cell_type": "code",
   "execution_count": null,
   "metadata": {},
   "outputs": [],
   "source": [
    "circle = cv.getStructuringElement(cv.MORPH_ELLIPSE, (30, 20))# np.ones((20,24),np.uint8)\n",
    "small_coinsDilate = cv.dilate(small_coins, circle)\n",
    "plt_show(small_coinsDilate)\n"
   ]
  },
  {
   "cell_type": "code",
   "execution_count": null,
   "metadata": {},
   "outputs": [],
   "source": [
    "bublick = abs(small_coinsDilate-small_coins)\n",
    "plt_show(bublick)"
   ]
  },
  {
   "cell_type": "code",
   "execution_count": null,
   "metadata": {},
   "outputs": [],
   "source": [
    "_, markers_for_bublick = cv.connectedComponents(small_coinsDilate)\n",
    "\n",
    "\n",
    "markers_for_bublick = markers_for_bublick + 1\n",
    "markers_for_bublick[bublick==255] = 0\n",
    "\n",
    "\n",
    "plt_show(markers_for_bublick)\n",
    "\n",
    "\n",
    "reference = cv.imread(\"pic3.jpg\")\n",
    "markers_for_bublick = cv.watershed(reference, markers_for_bublick)\n",
    "\n",
    "\n",
    "plt_show(markers_for_bublick)\n",
    "\n",
    "reference[markers_for_bublick == -1] = [255, 0, 0]\n",
    "\n",
    "\n",
    "plt_show(reference)"
   ]
  },
  {
   "cell_type": "code",
   "execution_count": null,
   "metadata": {},
   "outputs": [],
   "source": [
    "circle = np.ones((130,130),np.uint8)\n",
    "small_coins_double_dilate = cv.dilate(small_coins, circle)\n",
    "\n",
    "plt_show(small_coins_double_dilate)"
   ]
  },
  {
   "cell_type": "code",
   "execution_count": null,
   "metadata": {},
   "outputs": [],
   "source": [
    "big_coins=all_coins.copy()\n",
    "for i in range(len(small_coins_double_dilate)):\n",
    "    for j in range(len(small_coins_double_dilate[0])):\n",
    "        if (small_coins_double_dilate[i][j]!=0):\n",
    "            big_coins[i][j]=0\n",
    "plt_show(big_coins)\n",
    "\n",
    "circle = cv.getStructuringElement(cv.MORPH_ELLIPSE, (15, 10))\n",
    "big_coinser = cv.dilate(big_coins, circle)"
   ]
  },
  {
   "cell_type": "code",
   "execution_count": null,
   "metadata": {},
   "outputs": [],
   "source": [
    "_, markers_for_big_coins = cv.connectedComponents(big_coinser)\n",
    "plt_show(markers_for_big_coins)"
   ]
  },
  {
   "cell_type": "code",
   "execution_count": null,
   "metadata": {},
   "outputs": [],
   "source": [
    "print(\"countBigCoins  =  \", coinsNumberFind(markers_for_big_coins))"
   ]
  },
  {
   "cell_type": "code",
   "execution_count": null,
   "metadata": {},
   "outputs": [],
   "source": [
    "circle = cv.getStructuringElement(cv.MORPH_ELLIPSE, (45, 40))# np.ones((20,24),np.uint8)\n",
    "big_coins_dil = cv.dilate(big_coins, circle)\n",
    "plt_show(big_coins_dil)\n",
    "\n",
    "circle = cv.getStructuringElement(cv.MORPH_ELLIPSE, (55, 55))# np.ones((20,24),np.uint8)\n",
    "big_coins_erode = cv.erode(big_coins_dil, circle)\n",
    "plt_show(big_coins_erode)\n",
    "\n",
    "\n",
    "bublick_big = abs(big_coins_dil - big_coins_erode)\n",
    "plt_show(bublick_big)"
   ]
  },
  {
   "cell_type": "code",
   "execution_count": null,
   "metadata": {},
   "outputs": [],
   "source": [
    "circle = cv.getStructuringElement(cv.MORPH_ELLIPSE, (5, 5))#\n",
    "plt_show(big_coins)\n",
    "\n",
    "big_coins5 = cv.dilate(big_coins, circle)\n",
    "plt_show(big_coins5)\n",
    "\n",
    "_, markers_for_bublick2 = cv.connectedComponents(big_coins5)\n",
    "\n",
    "markers_for_bublick2 = markers_for_bublick2 + 1\n",
    "markers_for_bublick2[bublick_big==255] = 0\n",
    "plt_show(markers_for_bublick2)\n",
    "\n",
    "\n",
    "reference = cv.imread(\"pic3.jpg\")\n",
    "markers_for_bublick2 = cv.watershed(reference, markers_for_bublick2)\n",
    "plt_show(markers_for_bublick2)\n",
    "\n",
    "reference[markers_for_bublick2 == -1] = [0, 191, 255]\n",
    "plt_show(reference)"
   ]
  },
  {
   "cell_type": "code",
   "execution_count": null,
   "metadata": {},
   "outputs": [],
   "source": [
    "circle = np.ones((5,5),np.uint8)\n",
    "coins_erode = cv.erode(all_coins, circle)\n",
    "\n",
    "for i in range(len(coins_erode)):\n",
    "    for j in range(len(coins_erode[0])):\n",
    "        if (big_coins_dil[i][j]!=0):\n",
    "            coins_erode[i][j]=big_coins_dil[i][j]\n",
    "    \n",
    "plt_show(coins_erode)\n",
    "\n",
    "\n",
    "_, markers_for_bublick_all = cv.connectedComponents(coins_erode)\n",
    "print(\"AllCoins  =  \", coinsNumberFind(cv.connectedComponents(coins_erode)[1]))\n",
    "\n",
    "plt_show(all_coins)\n",
    "\n",
    "bublick_all = bublick.copy()\n",
    "for i in range(len(bublick_all)):\n",
    "    for j in range(len(bublick_all[0])):\n",
    "        if (bublick_big[i][j]!=0):\n",
    "            bublick_all[i][j]=bublick_big[i][j]            \n",
    "plt_show(bublick_all)\n",
    "\n",
    "\n",
    "markers_for_bublick_all = markers_for_bublick_all + 1\n",
    "markers_for_bublick_all[bublick_all==255] = 0\n",
    "plt_show(markers_for_bublick_all)\n",
    "\n",
    "\n",
    "reference = cv.imread(\"pic3.jpg\")\n",
    "markers_for_bublick_all = cv.watershed(reference, markers_for_bublick_all)\n",
    "plt_show(markers_for_bublick_all)\n",
    "\n",
    "\n",
    "reference[markers_for_bublick_all == -1] = [252, 15, 192]\n",
    "plt_show(reference)"
   ]
  },
  {
   "cell_type": "code",
   "execution_count": null,
   "metadata": {},
   "outputs": [],
   "source": []
  }
 ],
 "metadata": {
  "kernelspec": {
   "display_name": "Python 3",
   "language": "python",
   "name": "python3"
  },
  "language_info": {
   "codemirror_mode": {
    "name": "ipython",
    "version": 3
   },
   "file_extension": ".py",
   "mimetype": "text/x-python",
   "name": "python",
   "nbconvert_exporter": "python",
   "pygments_lexer": "ipython3",
   "version": "3.8.5"
  }
 },
 "nbformat": 4,
 "nbformat_minor": 4
}
