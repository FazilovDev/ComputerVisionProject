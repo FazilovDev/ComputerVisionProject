{
 "cells": [
  {
   "cell_type": "code",
   "execution_count": null,
   "metadata": {},
   "outputs": [],
   "source": [
    "from IPython import get_ipython\n",
    "my_variables = set(dir())  # Write this line at the beginning of cell\n",
    "my_variables = list(set(dir()) - my_variables)  # Write these 2 lines at the end of cell\n",
    "get_ipython().magic('%reset_selective -f [{}]'.format(','.join(my_variables)))\n",
    "\n",
    "import cv2 as cv\n",
    "import numpy as np\n",
    "import numpy.ma as ma\n",
    "from matplotlib import pyplot as plt\n",
    "from PIL import Image, ImageDraw \n",
    "import pylab"
   ]
  },
  {
   "cell_type": "code",
   "execution_count": null,
   "metadata": {},
   "outputs": [],
   "source": [
    "def plt_show(image, color = None):\n",
    "    pic_size=5\n",
    "    plt.figure(figsize = (pic_size, pic_size))\n",
    "    plt.imshow(image, color)\n",
    "    plt.show()"
   ]
  },
  {
   "cell_type": "code",
   "execution_count": null,
   "metadata": {},
   "outputs": [],
   "source": [
    "def otsuFragment(pix, old):\n",
    "    hist = hist_ar(pix)\n",
    "\n",
    "    summ = 0\n",
    "    for x in range(len(pix)):\n",
    "        summ = summ +pix[x]\n",
    "\n",
    "    indexMax = 0\n",
    "    sigMax = 0.0 \n",
    "\n",
    "    l1 = 0 \n",
    "    o1 = 0\n",
    "    \n",
    "    if len(old)==0:\n",
    "        old_new=[0]\n",
    "\n",
    "    for thresh in range(1,len(hist)): \n",
    "       \n",
    "        if not thresh in old:\n",
    "            l1 = l1 +  hist[thresh]\n",
    "            \n",
    "            # print(\"o1 \",o1)\n",
    "            o1 =o1+ thresh * hist[thresh]\n",
    "    \n",
    "            # print(\"l1\",l1)\n",
    "            omega1 = l1 /len(pix) \n",
    "            omega2 = 1.0 - omega1 \n",
    "    \n",
    "            lyamda1 = o1 /l1\n",
    "            lyamda2 = (summ - o1)/(len(pix) - l1)\n",
    "            \n",
    "            between = lyamda1 - lyamda2\n",
    "    \n",
    "            sigma = omega1 * omega2 * between * between\n",
    "\n",
    "            if (sigma > sigMax): \n",
    "                sigMax = sigma\n",
    "                indexMax = thresh\n",
    "    return indexMax \n",
    "\n",
    "def hist_ar(pixarr):\n",
    "        h = np.zeros(256, np.float32)\n",
    "        for x in range(len(pixarr)):\n",
    "            h[round(pixarr[x])]=h[round(pixarr[x])]+1\n",
    "        for i in range(len(h)):\n",
    "            if len(h)>i:\n",
    "                if ((h[i]==0) & (len(h)>0)):\n",
    "                    h=np.setdiff1d(h, 0)\n",
    "                    i = i - 1\n",
    "        return h\n",
    "    \n",
    "def otsu_loc(image_name):\n",
    "    partsH = 2;  partsV = 2\n",
    "    \n",
    "    ref = cv.imread(image_name, cv.IMREAD_GRAYSCALE)\n",
    "    image = Image.open(image_name)\n",
    "    new_pix = ImageDraw.Draw(image)  \n",
    "    \n",
    "    sizeV = image.size[1];  sizeH = image.size[0]\n",
    "\n",
    "    stepV = np.array([x for x in range(0,sizeV-sizeV//partsH+1,int(sizeV//partsH))])  \n",
    "    stepV=np.append(stepV,sizeV)\n",
    "    \n",
    "    stepH = np.array([x for x in range(0,sizeH-sizeH//partsV+1,int(sizeH//partsV))])    \n",
    "    stepH=np.append(stepH, sizeH)\n",
    "\n",
    "    pixarr = cv.imread(image_name, cv.IMREAD_GRAYSCALE)\n",
    "    for i in range(len(stepV)-1):\n",
    "        for j in range(len(stepH)-1):\n",
    "            arr1 = arr = (pixarr[stepV[i]:stepV[i+1],stepH[j]:stepH[j+1]])\n",
    "            limit = otsuFragment(arr1.reshape(len(arr)*len(arr[0])), [])\n",
    "            for x in range(stepV[i],stepV[i+1]):\n",
    "                for y in range(stepH[j],stepH[j+1]):\n",
    "                    if arr[x-stepV[i],y-stepH[j]] < limit:\n",
    "                        pix = 0\n",
    "                    else:\n",
    "                        pix = 255\n",
    "                    ref[x][y]=pix\n",
    "                    new_pix.point((y, x), (pix, pix, pix)) \n",
    "    fig, ax = plt.subplots(1,2)\n",
    "    plt.title(\"Local binarization Otsu's method\")\n",
    "    ax[0].imshow( Image.open(image_name) )\n",
    "    ax[1].imshow(image)\n",
    "    plt.show()\n",
    "    return ref"
   ]
  },
  {
   "cell_type": "code",
   "execution_count": null,
   "metadata": {},
   "outputs": [],
   "source": [
    "bin_ref = otsu_loc(\"pic2.jpg\")"
   ]
  },
  {
   "cell_type": "code",
   "execution_count": null,
   "metadata": {},
   "outputs": [],
   "source": [
    "circle = cv.getStructuringElement(cv.MORPH_ELLIPSE, (15, 18))# np.ones((9,2),np.uint8)\n",
    "spoons_sugar = cv.erode(bin_ref, circle)\n",
    "plt_show(spoons_sugar)\n",
    "\n",
    "spoons_sugar = cv.dilate(spoons_sugar, circle)\n",
    "plt_show(spoons_sugar)"
   ]
  },
  {
   "cell_type": "code",
   "execution_count": null,
   "metadata": {},
   "outputs": [],
   "source": [
    "contours, _ = cv.findContours(spoons_sugar,cv.RETR_EXTERNAL,cv.CHAIN_APPROX_SIMPLE)\n",
    "contour=[]\n",
    "for i in contours:\n",
    "    if(len(i)<180):\n",
    "        contour.append(i)\n",
    "print(\"Count of sugar = \", len(contour))\n",
    "figures_border = cv.drawContours(cv.imread(\"pic2.jpg\"),contour,-1,(14,28,57), thickness=10)\n",
    "plt_show(figures_border)\n",
    "\n",
    "# CV_CHAIN_APPROX_SIMPLE — склеивает все горизонтальные, вертикальные и диагональные контуры.\n"
   ]
  },
  {
   "cell_type": "code",
   "execution_count": null,
   "metadata": {},
   "outputs": [],
   "source": [
    "contour=[]\n",
    "for i in contours:\n",
    "    if(len(i) > 180):\n",
    "        contour.append(i)\n",
    "print(\"Count of spoons = \", len(contour))\n",
    "figures_border = cv.drawContours(cv.imread(\"pic2.jpg\"),contour,-1,(14,28,57), thickness=10)\n",
    "plt_show(figures_border)"
   ]
  },
  {
   "cell_type": "code",
   "execution_count": null,
   "metadata": {},
   "outputs": [],
   "source": [
    "for i in contours:\n",
    "    if(len(i)<180):\n",
    "        contour.append(i)\n",
    "print(\"Total count = \", len(contours))\n",
    "figures_border = cv.drawContours(cv.imread(\"pic2.jpg\"),contours,-1,(14,28,57), thickness=10)\n",
    "plt_show(figures_border)"
   ]
  },
  {
   "cell_type": "code",
   "execution_count": null,
   "metadata": {},
   "outputs": [],
   "source": []
  }
 ],
 "metadata": {
  "kernelspec": {
   "display_name": "Python 3",
   "language": "python",
   "name": "python3"
  },
  "language_info": {
   "codemirror_mode": {
    "name": "ipython",
    "version": 3
   },
   "file_extension": ".py",
   "mimetype": "text/x-python",
   "name": "python",
   "nbconvert_exporter": "python",
   "pygments_lexer": "ipython3",
   "version": "3.8.5"
  }
 },
 "nbformat": 4,
 "nbformat_minor": 4
}
